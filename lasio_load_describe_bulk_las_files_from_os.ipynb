{
  "nbformat": 4,
  "nbformat_minor": 0,
  "metadata": {
    "colab": {
      "name": "Untitled28.ipynb",
      "provenance": [],
      "authorship_tag": "ABX9TyPuDrdk1y754xPGPMqs9hVO"
    },
    "kernelspec": {
      "name": "python3",
      "display_name": "Python 3"
    }
  },
  "cells": [
    {
      "cell_type": "code",
      "metadata": {
        "id": "n9AcJqiK4ksG"
      },
      "source": [
        "ls"
      ],
      "execution_count": null,
      "outputs": []
    },
    {
      "cell_type": "code",
      "metadata": {
        "id": "4YTZHLLc4z_Z"
      },
      "source": [
        "files = os.listdir()\r\n",
        "files"
      ],
      "execution_count": null,
      "outputs": []
    },
    {
      "cell_type": "code",
      "metadata": {
        "id": "JrZb8iAW45Eb"
      },
      "source": [
        "for comp in files:\r\n",
        "  c_1 = lasio.read(comp)\r\n",
        "  print(\"\\n\",comp)\r\n",
        "  print(\"Well:\",c_1.well.WELL.value)\r\n",
        "  print(\"Logs:\",c_1.keys())\r\n",
        "  print(\"Depth intervals:\\n\\tmin:\",min(c_1[0]),\"\\ntmax:\",max(c_1[0]))\r\n",
        "  continue"
      ],
      "execution_count": null,
      "outputs": []
    }
  ]
}